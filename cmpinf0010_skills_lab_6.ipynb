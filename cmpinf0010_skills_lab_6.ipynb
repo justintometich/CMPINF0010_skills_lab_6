{
 "cells": [
  {
   "cell_type": "code",
   "execution_count": 1,
   "metadata": {},
   "outputs": [
    {
     "name": "stdin",
     "output_type": "stream",
     "text": [
      "Please enter a name:  Jordan\n",
      "Please enter your age:  20\n"
     ]
    },
    {
     "name": "stdout",
     "output_type": "stream",
     "text": [
      "Hello Jordan, your age is 20.\n"
     ]
    }
   ],
   "source": [
    "# Python program that does \"Something\"\n",
    "# Contributors: Justin Tometich, Sean Ignasky, Jordan Janotka\n",
    "\n",
    "input_name = input(\"Please enter a name: \")\n",
    "input_age = input(\"Please enter your age: \")\n",
    "\n",
    "print(\"Hello \"+input_name+\", your age is \"+input_age+\".\")\n"
   ]
  },
  {
   "cell_type": "code",
   "execution_count": null,
   "metadata": {},
   "outputs": [],
   "source": []
  }
 ],
 "metadata": {
  "kernelspec": {
   "display_name": "Python 3",
   "language": "python",
   "name": "python3"
  },
  "language_info": {
   "codemirror_mode": {
    "name": "ipython",
    "version": 3
   },
   "file_extension": ".py",
   "mimetype": "text/x-python",
   "name": "python",
   "nbconvert_exporter": "python",
   "pygments_lexer": "ipython3",
   "version": "3.8.3"
  }
 },
 "nbformat": 4,
 "nbformat_minor": 4
}
